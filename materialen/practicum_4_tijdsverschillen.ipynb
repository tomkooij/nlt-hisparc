{
 "cells": [
  {
   "cell_type": "markdown",
   "metadata": {},
   "source": [
    "# NLT practicum bij H4: Tijdsverschillen in HiSPARC\n",
    "\n",
    "Dit Jupyter notebook hoort bij de NLT module \"Kosmische straling\" en vervangt het practicum van H4.\n",
    "\n",
    "Een HiSPARC opstelling heeft (minstens) twee detectoren, die deeltjes meten. Een coincidentie vindt plaats als beide detectoren binnen 1500 ns een puls geven. Het tijdsverschil 1500 ns noemen we het 'trigger venster'.\n",
    "\n",
    "Het doel van deze proef is te onderzoeken hoe de tijdsverschillen tussen de pulsen (binnen het 1500 ns trigger venster) verdeeld zijn."
   ]
  },
  {
   "cell_type": "code",
   "execution_count": 1,
   "metadata": {},
   "outputs": [],
   "source": [
    "import numpy as np\n",
    "import tables\n",
    "import matplotlib.pyplot as plt\n",
    "\n",
    "from sapphire import download_data\n",
    "from datetime import datetime"
   ]
  },
  {
   "cell_type": "markdown",
   "metadata": {},
   "source": [
    "# Download de data"
   ]
  },
  {
   "cell_type": "code",
   "execution_count": 2,
   "metadata": {},
   "outputs": [],
   "source": [
    "start = datetime(2019, 11, 12)\n",
    "end = datetime(2019, 11, 13)\n",
    "\n",
    "STATION = 104"
   ]
  },
  {
   "cell_type": "code",
   "execution_count": 3,
   "metadata": {},
   "outputs": [
    {
     "name": "stderr",
     "output_type": "stream",
     "text": [
      "100%|###########################################################|Time:  0:00:05\n"
     ]
    }
   ],
   "source": [
    "# download data to HDF5 and read into memory. Close HDF5 file.\n",
    "station_group = '/s%s' % STATION\n",
    "with tables.open_file('data.h5', 'w') as data:\n",
    "    download_data(data, station_group, STATION, start, end)\n",
    "    event_tabel = data.get_node(station_group, 'events').read()"
   ]
  },
  {
   "cell_type": "markdown",
   "metadata": {},
   "source": [
    "## Event tabel\n",
    "\n",
    "`event_tabel` is een array (tabel) van door het HiSPARC station vastgelegd events. Een event is een coincidentie, waarbij elke detector minstens een puls (deeltje) gemeten heeft.\n",
    "\n",
    "Elke rij is een event. Elk event heeft een tijdsstempel (`timestamp`).\n",
    "In de overige kolommen staan de gemeten grootheden, zoals de pulshoogte en aankomsttijden."
   ]
  },
  {
   "cell_type": "code",
   "execution_count": 4,
   "metadata": {},
   "outputs": [
    {
     "data": {
      "text/plain": [
       "array([(    0, 1573516810, 891075134, 1573516810891075134, [ 88, 534,  -1,  -1], [  610,  6429,    -1,    -1], 0.22308, 2.2941 , -1., -1.,  65. ,  80. , -1., -1.,  80. ),\n",
       "       (    1, 1573516812, 967711378, 1573516812967711378, [165,  71,  -1,  -1], [ 1541,   394,    -1,    -1], 0.56355, 0.14059, -1., -1., 517.5,  65. , -1., -1., 520. ),\n",
       "       (    2, 1573516814, 103323797, 1573516814103323797, [612, 905,  -1,  -1], [ 7680, 10872,    -1,    -1], 2.8086 , 3.8795 , -1., -1.,  62.5,  67.5, -1., -1.,  70. ),\n",
       "       ...,\n",
       "       (32652, 1573603191, 677035060, 1573603191677035060, [177, 267,  -1,  -1], [ 1613,  2680,    -1,    -1], 0.58988, 0.95631, -1., -1.,  60. , 650. , -1., -1., 655. ),\n",
       "       (32653, 1573603192, 592640211, 1573603192592640211, [212,  81,  -1,  -1], [ 2409,   517,    -1,    -1], 0.88097, 0.18448, -1., -1.,  62.5, 842.5, -1., -1., 847.5),\n",
       "       (32654, 1573603198,  19065519, 1573603198019065519, [755,  64,  -1,  -1], [ 8482,   285,    -1,    -1], 3.1019 , 0.1017 , -1., -1., 185. ,  57.5, -1., -1., 187.5)],\n",
       "      dtype=[('event_id', '<u4'), ('timestamp', '<i4'), ('nanoseconds', '<u4'), ('ext_timestamp', '<u8'), ('pulseheights', '<i2', (4,)), ('integrals', '<i4', (4,)), ('n1', '<f4'), ('n2', '<f4'), ('n3', '<f4'), ('n4', '<f4'), ('t1', '<f4'), ('t2', '<f4'), ('t3', '<f4'), ('t4', '<f4'), ('t_trigger', '<f4')])"
      ]
     },
     "execution_count": 4,
     "metadata": {},
     "output_type": "execute_result"
    }
   ],
   "source": [
    "event_tabel"
   ]
  },
  {
   "cell_type": "markdown",
   "metadata": {},
   "source": [
    "## Tijdsverschillen\n",
    "\n",
    "In de kolommen `t1` en `t2` staan de (relatieve) tijdstippen van de pulsen in het event. De tijden zijn te interpreteren als de aankomsttijden van de gemeten deeltjes.\n",
    "\n",
    "We definieren `dt`: Het tijdsverschil tussen de pulsen.\n",
    "`dt` is een rij van tijdsverschillen: Voor elk event een tijdsverschil.\n"
   ]
  },
  {
   "cell_type": "code",
   "execution_count": 5,
   "metadata": {},
   "outputs": [],
   "source": [
    "t1 = event_tabel['t1']\n",
    "t2 = event_tabel['t2']\n",
    "dt = t2 - t1"
   ]
  },
  {
   "cell_type": "code",
   "execution_count": 6,
   "metadata": {},
   "outputs": [
    {
     "data": {
      "text/plain": [
       "array([  15. , -452.5,    5. , ...,  590. ,  780. , -127.5], dtype=float32)"
      ]
     },
     "execution_count": 6,
     "metadata": {},
     "output_type": "execute_result"
    }
   ],
   "source": [
    "dt"
   ]
  },
  {
   "cell_type": "code",
   "execution_count": 7,
   "metadata": {},
   "outputs": [
    {
     "data": {
      "text/plain": [
       "32655"
      ]
     },
     "execution_count": 7,
     "metadata": {},
     "output_type": "execute_result"
    }
   ],
   "source": [
    "len(dt)  # lengte van de lijst dt (aantal elementen in de lijst)"
   ]
  },
  {
   "cell_type": "markdown",
   "metadata": {},
   "source": [
    "## Histogram van (aankomst)tijdverschillen\n",
    "\n",
    "De tijdsverschillen `dt` kunnen we uitzetten in een histogram.\n",
    "\n",
    "Het maximale tijdsverschil is dat ons HiSPARC station vastlegt is 1500 ns (triggervenster). "
   ]
  },
  {
   "cell_type": "code",
   "execution_count": 8,
   "metadata": {},
   "outputs": [
    {
     "data": {
      "image/png": "[encoded data removed]",
      "text/plain": [
       "<Figure size 720x288 with 1 Axes>"
      ]
     },
     "metadata": {
      "needs_background": "light"
     },
     "output_type": "display_data"
    }
   ],
   "source": [
    "plt.figure(figsize=(10,4))\n",
    "plt.hist(dt, bins=np.arange(-1600, 1600., 2.5), histtype='step')\n",
    "plt.title('Station %d: tijdverschil t2 - t1' % STATION)\n",
    "plt.xlabel('dt (ns)')\n",
    "plt.ylabel('aantal')\n",
    "plt.show()"
   ]
  },
  {
   "cell_type": "markdown",
   "metadata": {},
   "source": [
    "## Piek nader bekeken\n",
    "\n",
    "We maken een histogram van van de tijdsverschillen `dt` tussen -200 ns en 200 ns.\n",
    "\n",
    "In deze plot is de piek van kleine tijdsverschillen veel beter te zien. \n",
    "\n",
    "Voor het tijdsverschil van gemeten pulsen (deeltjes) geldt:\n",
    " * Grote tijdsverschillen horen bij **toevallige coincidenties tussen deeltjes die NIET afkomstig zijn uit dezelfde shower**.\n",
    " * Kleine tijdsverschillen horen bij **coincidenties van deeltjes die afkomstig zijn uit dezelfde shower**."
   ]
  },
  {
   "cell_type": "code",
   "execution_count": 9,
   "metadata": {},
   "outputs": [
    {
     "data": {
      "image/png": "[encoded data removed]",
      "text/plain": [
       "<Figure size 720x288 with 1 Axes>"
      ]
     },
     "metadata": {
      "needs_background": "light"
     },
     "output_type": "display_data"
    }
   ],
   "source": [
    "plt.figure(figsize=(10,4))\n",
    "plt.hist(dt, bins=np.arange(-200, 200., 2.5), histtype='step')\n",
    "plt.title('Station %d: tijdverschil t2 - t1' % STATION)\n",
    "plt.xlabel('dt (ns)')\n",
    "plt.ylabel('counts')\n",
    "plt.show()"
   ]
  },
  {
   "cell_type": "markdown",
   "metadata": {},
   "source": [
    "# Opgave 1\n",
    "\n",
    "Maak een schatting van het aantal events waarin de deeltjes afkomstig zijn uit dezelfde shower. Gebruik het histogram."
   ]
  },
  {
   "cell_type": "code",
   "execution_count": 10,
   "metadata": {},
   "outputs": [],
   "source": [
    "# antwoord:\n"
   ]
  },
  {
   "cell_type": "markdown",
   "metadata": {},
   "source": [
    "## Toevallige coincidenties\n",
    "\n",
    "Door gebruik te maken van een logaritmische schaalverdeling kunnen we de toevallige coincidenties beter bekijken:"
   ]
  },
  {
   "cell_type": "code",
   "execution_count": 11,
   "metadata": {
    "scrolled": true
   },
   "outputs": [
    {
     "data": {
      "image/png": "[encoded data removed]",
      "text/plain": [
       "<Figure size 720x288 with 1 Axes>"
      ]
     },
     "metadata": {
      "needs_background": "light"
     },
     "output_type": "display_data"
    }
   ],
   "source": [
    "plt.figure(figsize=(10,4))\n",
    "plt.hist(dt, bins=np.arange(-1600, 1600., 2.5), histtype='step', log=True)\n",
    "plt.title('Station %d: tijdverschil t2 - t1' % STATION)\n",
    "plt.xlabel('dt (ns)')\n",
    "plt.ylabel('counts')\n",
    "plt.show()"
   ]
  },
  {
   "cell_type": "markdown",
   "metadata": {},
   "source": [
    "# Opgave 2\n",
    "\n",
    "Maak een schatting van het aantal toevallige coincidenties. Gebruik het histogram met logaritmische schaalverdeling.\n"
   ]
  },
  {
   "cell_type": "code",
   "execution_count": 12,
   "metadata": {},
   "outputs": [],
   "source": [
    "# antwoord"
   ]
  },
  {
   "cell_type": "markdown",
   "metadata": {},
   "source": [
    "## tijdsverschillen selecteren \n",
    "\n",
    "We kunnen de tijdsverschillen uit de lijst `dt` selecteren. Op basis van de waarde van `dt`"
   ]
  },
  {
   "cell_type": "code",
   "execution_count": 13,
   "metadata": {},
   "outputs": [
    {
     "data": {
      "text/plain": [
       "array([   15. ,  -452.5,     5. , ..., -1062.5,   -10. ,  -127.5],\n",
       "      dtype=float32)"
      ]
     },
     "execution_count": 13,
     "metadata": {},
     "output_type": "execute_result"
    }
   ],
   "source": [
    "dt[dt < 100.]  # alle elementen uit de lijst dt, die kleiner zijn dan 100   "
   ]
  },
  {
   "cell_type": "markdown",
   "metadata": {},
   "source": [
    "# Opgave 3\n",
    "\n",
    "- Maak een lijst van alle elementen uit `dt` die GEEN toevallige concidenties zijn: Noem de lijst `dt_shower`.\n",
    "- Maak een lijst van alle elemeten uit `dt` die WEL toevallige coincidenties zijn: Noem de lijst `dt_toevallig`.\n",
    "- Bereken het percentage toevallige coincidenties in deze dataset"
   ]
  },
  {
   "cell_type": "code",
   "execution_count": 14,
   "metadata": {},
   "outputs": [],
   "source": [
    "# antwoord"
   ]
  },
  {
   "cell_type": "code",
   "execution_count": null,
   "metadata": {},
   "outputs": [],
   "source": []
  },
  {
   "cell_type": "code",
   "execution_count": null,
   "metadata": {},
   "outputs": [],
   "source": []
  },
  {
   "cell_type": "code",
   "execution_count": 15,
   "metadata": {},
   "outputs": [],
   "source": [
    "## Extra pulshoogte van toev"
   ]
  },
  {
   "cell_type": "code",
   "execution_count": 16,
   "metadata": {},
   "outputs": [],
   "source": [
    "shower_events = event_tabel[abs(dt) < 200.]\n",
    "toevallige_coinc = event_tabel[abs(dt) >= 200.]"
   ]
  },
  {
   "cell_type": "code",
   "execution_count": 17,
   "metadata": {},
   "outputs": [],
   "source": [
    "ph0_shower = shower_events['pulseheights'][:, 0]\n",
    "ph1_shower = shower_events['pulseheights'][:, 1]\n",
    "ph_coinc0 = toevallige_coinc['pulseheights'][:, 0]\n",
    "ph_coinc1 = toevallige_coinc['pulseheights'][:, 1]"
   ]
  },
  {
   "cell_type": "code",
   "execution_count": 18,
   "metadata": {},
   "outputs": [
    {
     "data": {
      "image/png": "[encoded data removed]",
      "text/plain": [
       "<Figure size 720x288 with 1 Axes>"
      ]
     },
     "metadata": {
      "needs_background": "light"
     },
     "output_type": "display_data"
    }
   ],
   "source": [
    "plt.figure(figsize=(10,4))\n",
    "plt.hist(ph0_shower, bins=np.arange(0, 2000., 20), histtype='step', color='black', log=True)\n",
    "plt.hist(ph1_shower, bins=np.arange(0, 2000., 20), histtype='step', color='red', log=True)\n",
    "plt.hist(ph_coinc0, bins=np.arange(0, 2000., 20), histtype='step', color='blue', log=True)\n",
    "#plt.hist(ph_coinc1, bins=np.arange(0, 2000., 20), histtype='step', color='blue', log=True)\n",
    "plt.xlabel('pulshoogte (ADC)')\n",
    "plt.title('Station %d: Pulshoogte' % STATION)\n",
    "plt.ylabel('aantal')\n",
    "plt.legend(['shower events ch0', 'shower events ch1', 'toevallige coincidenties ch0'])\n",
    "plt.ylim([1, 5000])\n",
    "plt.show()"
   ]
  },
  {
   "cell_type": "code",
   "execution_count": null,
   "metadata": {},
   "outputs": [],
   "source": []
  }
 ],
 "metadata": {
  "kernelspec": {
   "display_name": "Python 3",
   "language": "python",
   "name": "python3"
  },
  "language_info": {
   "codemirror_mode": {
    "name": "ipython",
    "version": 3
   },
   "file_extension": ".py",
   "mimetype": "text/x-python",
   "name": "python",
   "nbconvert_exporter": "python",
   "pygments_lexer": "ipython3",
   "version": "3.7.3"
  }
 },
 "nbformat": 4,
 "nbformat_minor": 2
}
